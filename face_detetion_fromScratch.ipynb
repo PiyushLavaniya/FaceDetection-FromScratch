{
 "cells": [
  {
   "cell_type": "code",
   "execution_count": 1,
   "metadata": {
    "id": "ydBPGFkN58lY"
   },
   "outputs": [],
   "source": [
    "import os\n",
    "import time\n",
    "import uuid\n",
    "import cv2\n",
    "import tensorflow as tf\n",
    "import json\n",
    "import numpy as np\n",
    "import matplotlib.pyplot as plt"
   ]
  },
  {
   "cell_type": "code",
   "execution_count": 2,
   "metadata": {},
   "outputs": [],
   "source": [
    "IMAGES_PATH = os.path.join('data', 'images')\n",
    "NUM_IMAGES = 30"
   ]
  },
  {
   "cell_type": "code",
   "execution_count": 4,
   "metadata": {},
   "outputs": [],
   "source": [
    "cap = cv2.VideoCapture(0)\n",
    "\n",
    "while cap.isOpened():\n",
    "    \n",
    "#for num_image in range(NUM_IMAGES):\n",
    "    #print('collecting image {}'.format(num_image))\n",
    "    \n",
    "    ret, frame = cap.read()\n",
    "    \n",
    "    #imgname = os.path.join(IMAGES_PATH, f'{str(uuid.uuid1())}.jpg')\n",
    "    \n",
    "    #cv2.imwrite(imgname, frame)\n",
    "    \n",
    "    cv2.imshow('collecting the images', frame)\n",
    "    \n",
    "    #time.sleep(0.5)\n",
    "    \n",
    "    if cv2.waitKey(10) & 0xFF == ord('q'):\n",
    "        break\n",
    "        \n",
    "cap.release()\n",
    "cv2.destroyAllWindows()"
   ]
  },
  {
   "cell_type": "code",
   "execution_count": null,
   "metadata": {},
   "outputs": [],
   "source": [
    "!labelme"
   ]
  },
  {
   "cell_type": "code",
   "execution_count": null,
   "metadata": {},
   "outputs": [],
   "source": [
    "#setting the gpu growth\n",
    "\n",
    "gpus = tf.config.experimental.list_physical_devices('GPU')\n",
    "\n",
    "for gpu in gpus:\n",
    "    tf.config.experimental.set_memory_growth(gpu, True)"
   ]
  },
  {
   "cell_type": "code",
   "execution_count": null,
   "metadata": {},
   "outputs": [],
   "source": [
    "tf.config.experimental.list_physical_devices('GPU')"
   ]
  },
  {
   "cell_type": "code",
   "execution_count": null,
   "metadata": {},
   "outputs": [],
   "source": [
    "images = tf.data.Dataset.list_files('data\\\\images\\\\*jpg')"
   ]
  },
  {
   "cell_type": "code",
   "execution_count": null,
   "metadata": {},
   "outputs": [],
   "source": [
    "images.as_numpy_iterator().next()"
   ]
  },
  {
   "cell_type": "code",
   "execution_count": null,
   "metadata": {},
   "outputs": [],
   "source": [
    "#to load an image from byte to jpg\n",
    "\n",
    "def load_img(x):\n",
    "    byte_image = tf.io.read_file(x)\n",
    "    img = tf.io.decode_jpeg(byte_image)\n",
    "    \n",
    "    return img"
   ]
  },
  {
   "cell_type": "code",
   "execution_count": null,
   "metadata": {},
   "outputs": [],
   "source": [
    "images = images.map(load_img)"
   ]
  },
  {
   "cell_type": "code",
   "execution_count": null,
   "metadata": {},
   "outputs": [],
   "source": [
    "image_generator = images.batch(4).as_numpy_iterator()"
   ]
  },
  {
   "cell_type": "code",
   "execution_count": null,
   "metadata": {},
   "outputs": [],
   "source": [
    "plot_images = image_generator.next()"
   ]
  },
  {
   "cell_type": "code",
   "execution_count": null,
   "metadata": {},
   "outputs": [],
   "source": [
    "fig, ax = plt.subplots(ncols = 4, figsize = (10, 10))\n",
    "\n",
    "for idx, image in enumerate(plot_images):\n",
    "    ax[idx].imshow(image)\n",
    "    \n",
    "plt.show()"
   ]
  },
  {
   "cell_type": "code",
   "execution_count": null,
   "metadata": {},
   "outputs": [],
   "source": [
    "#moving the matching labels to the corresponding folders of test, train and val\n",
    "\n",
    "for folder in ['train', 'test', 'val']:\n",
    "    for file in os.listdir(os.path.join('data', folder, 'images')):\n",
    "        \n",
    "        filename = file.split(\".\")[0] + '.json'\n",
    "        \n",
    "        existing_filepath = os.path.join('data', 'labels', filename)\n",
    "        \n",
    "        if os.path.exists(existing_filepath):\n",
    "            new_filepath = os.path.join('data', folder, 'labels', filename)\n",
    "            os.replace(existing_filepath, new_filepath)"
   ]
  },
  {
   "cell_type": "code",
   "execution_count": null,
   "metadata": {},
   "outputs": [],
   "source": [
    "augmentor = alb.Compose([alb.RandomCrop(width=450, height=450), \n",
    "                         alb.HorizontalFlip(p=0.5), \n",
    "                         alb.RandomBrightnessContrast(p=0.2),\n",
    "                         alb.RandomGamma(p=0.2), \n",
    "                         alb.RGBShift(p=0.2), \n",
    "                         alb.VerticalFlip(p=0.5)], \n",
    "                       bbox_params=alb.BboxParams(format='albumentations', \n",
    "                                                  label_fields=['class_labels']))"
   ]
  },
  {
   "cell_type": "code",
   "execution_count": 12,
   "metadata": {
    "id": "EOaPIryX6VbA"
   },
   "outputs": [],
   "source": [
    "#loading an image and annotation from the test set"
   ]
  },
  {
   "cell_type": "code",
   "execution_count": 13,
   "metadata": {
    "id": "7Z8lZ7wC8KZH"
   },
   "outputs": [],
   "source": [
    "img = cv2.imread(os.path.join('data', 'test', 'images', '8a8f6be4-17e1-11ee-994e-00e04c33d143.jpg'))"
   ]
  },
  {
   "cell_type": "code",
   "execution_count": 14,
   "metadata": {
    "id": "s-iJ65al8WDm"
   },
   "outputs": [],
   "source": [
    "with open(os.path.join('data', 'test', 'labels', '8a8f6be4-17e1-11ee-994e-00e04c33d143.json'), 'r') as f:\n",
    "    label = json.load(f)"
   ]
  },
  {
   "cell_type": "code",
   "execution_count": 15,
   "metadata": {
    "colab": {
     "base_uri": "https://localhost:8080/"
    },
    "id": "KZW-gBd88qCN",
    "outputId": "b2897c64-1c27-48ab-fa58-370833602abe"
   },
   "outputs": [
    {
     "data": {
      "text/plain": [
       "{'version': '5.2.1',\n",
       " 'flags': {},\n",
       " 'shapes': [{'label': 'face',\n",
       "   'points': [[224.74452554744528, 91.82481751824818],\n",
       "    [430.5839416058394, 353.86861313868616]],\n",
       "   'group_id': None,\n",
       "   'description': '',\n",
       "   'shape_type': 'rectangle',\n",
       "   'flags': {}}],\n",
       " 'imagePath': '..\\\\images\\\\8a8f6be4-17e1-11ee-994e-00e04c33d143.jpg',\n",
       " 'imageData': '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',\n",
       " 'imageHeight': 480,\n",
       " 'imageWidth': 640}"
      ]
     },
     "execution_count": 15,
     "metadata": {},
     "output_type": "execute_result"
    }
   ],
   "source": [
    "label"
   ]
  },
  {
   "cell_type": "code",
   "execution_count": 18,
   "metadata": {
    "colab": {
     "base_uri": "https://localhost:8080/"
    },
    "id": "1hckOTVO8sMM",
    "outputId": "facb94e9-2bdb-4b9e-9922-45f0d106633c"
   },
   "outputs": [
    {
     "data": {
      "text/plain": [
       "[{'label': 'face',\n",
       "  'points': [[224.74452554744528, 91.82481751824818],\n",
       "   [430.5839416058394, 353.86861313868616]],\n",
       "  'group_id': None,\n",
       "  'description': '',\n",
       "  'shape_type': 'rectangle',\n",
       "  'flags': {}}]"
      ]
     },
     "execution_count": 18,
     "metadata": {},
     "output_type": "execute_result"
    }
   ],
   "source": [
    "label['shapes']"
   ]
  },
  {
   "cell_type": "code",
   "execution_count": 19,
   "metadata": {
    "colab": {
     "base_uri": "https://localhost:8080/"
    },
    "id": "S3SvpTWY8wOE",
    "outputId": "2c20ae50-4598-4302-bd7a-72b2dbc094f9"
   },
   "outputs": [
    {
     "data": {
      "text/plain": [
       "{'label': 'face',\n",
       " 'points': [[224.74452554744528, 91.82481751824818],\n",
       "  [430.5839416058394, 353.86861313868616]],\n",
       " 'group_id': None,\n",
       " 'description': '',\n",
       " 'shape_type': 'rectangle',\n",
       " 'flags': {}}"
      ]
     },
     "execution_count": 19,
     "metadata": {},
     "output_type": "execute_result"
    }
   ],
   "source": [
    "label['shapes'][0]"
   ]
  },
  {
   "cell_type": "code",
   "execution_count": 20,
   "metadata": {
    "colab": {
     "base_uri": "https://localhost:8080/"
    },
    "id": "B-zmH46L88k0",
    "outputId": "87a36c26-dab8-4f7c-d6e3-da228c3fcaec"
   },
   "outputs": [
    {
     "data": {
      "text/plain": [
       "[[224.74452554744528, 91.82481751824818],\n",
       " [430.5839416058394, 353.86861313868616]]"
      ]
     },
     "execution_count": 20,
     "metadata": {},
     "output_type": "execute_result"
    }
   ],
   "source": [
    "label['shapes'][0]['points']"
   ]
  },
  {
   "cell_type": "code",
   "execution_count": 21,
   "metadata": {
    "id": "S1GaABQ19GZE"
   },
   "outputs": [],
   "source": [
    "#rescaling the coordinates to the image resolution"
   ]
  },
  {
   "cell_type": "code",
   "execution_count": 22,
   "metadata": {
    "id": "BlvpYzzM9R6T"
   },
   "outputs": [],
   "source": [
    "coords = [0, 0, 0, 0]\n",
    "coords[0] = label['shapes'][0]['points'][0][0]\n",
    "coords[1] = label['shapes'][0]['points'][0][1]\n",
    "coords[2] = label['shapes'][0]['points'][1][0]\n",
    "coords[3] = label['shapes'][0]['points'][1][1]"
   ]
  },
  {
   "cell_type": "code",
   "execution_count": 23,
   "metadata": {
    "id": "3fYfiXRo9jyz"
   },
   "outputs": [],
   "source": [
    "coords = list(np.divide(coords, [640, 480, 640, 480]))"
   ]
  },
  {
   "cell_type": "code",
   "execution_count": 24,
   "metadata": {
    "colab": {
     "base_uri": "https://localhost:8080/"
    },
    "id": "1Uk8bi4L9tzq",
    "outputId": "57b06573-d4eb-4e8a-c1dd-7fb3cabd03a0"
   },
   "outputs": [
    {
     "data": {
      "text/plain": [
       "[0.35116332116788324,\n",
       " 0.19130170316301703,\n",
       " 0.6727874087591241,\n",
       " 0.7372262773722629]"
      ]
     },
     "execution_count": 24,
     "metadata": {},
     "output_type": "execute_result"
    }
   ],
   "source": [
    "coords"
   ]
  },
  {
   "cell_type": "code",
   "execution_count": 25,
   "metadata": {
    "id": "f5VDA_zu9u3K"
   },
   "outputs": [],
   "source": [
    "#now applying augmetnations to our image and labels or coords"
   ]
  },
  {
   "cell_type": "code",
   "execution_count": 27,
   "metadata": {
    "id": "6fMiB_Nf951Z"
   },
   "outputs": [],
   "source": [
    "augmented_image = augmenter(image = img, bboxes = [coords], class_labels = ['face'])"
   ]
  },
  {
   "cell_type": "code",
   "execution_count": 28,
   "metadata": {
    "colab": {
     "base_uri": "https://localhost:8080/"
    },
    "id": "MKv0rUGz-O3A",
    "outputId": "5c742b0b-b391-48f5-c23c-8ccc3130ca72"
   },
   "outputs": [
    {
     "data": {
      "text/plain": [
       "{'image': array([[[186, 190, 179],\n",
       "         [186, 190, 179],\n",
       "         [186, 190, 179],\n",
       "         ...,\n",
       "         [183, 186, 177],\n",
       "         [183, 186, 177],\n",
       "         [182, 185, 176]],\n",
       " \n",
       "        [[186, 190, 179],\n",
       "         [186, 190, 179],\n",
       "         [186, 190, 179],\n",
       "         ...,\n",
       "         [184, 187, 178],\n",
       "         [183, 186, 177],\n",
       "         [182, 185, 176]],\n",
       " \n",
       "        [[188, 192, 181],\n",
       "         [187, 191, 180],\n",
       "         [185, 190, 181],\n",
       "         ...,\n",
       "         [186, 189, 180],\n",
       "         [185, 188, 179],\n",
       "         [184, 187, 178]],\n",
       " \n",
       "        ...,\n",
       " \n",
       "        [[225, 216, 173],\n",
       "         [225, 216, 173],\n",
       "         [227, 215, 173],\n",
       "         ...,\n",
       "         [240, 237, 206],\n",
       "         [240, 236, 207],\n",
       "         [240, 236, 207]],\n",
       " \n",
       "        [[223, 215, 175],\n",
       "         [223, 216, 173],\n",
       "         [225, 216, 173],\n",
       "         ...,\n",
       "         [239, 236, 205],\n",
       "         [239, 236, 205],\n",
       "         [239, 236, 205]],\n",
       " \n",
       "        [[223, 215, 175],\n",
       "         [223, 215, 175],\n",
       "         [224, 215, 172],\n",
       "         ...,\n",
       "         [239, 236, 205],\n",
       "         [239, 236, 205],\n",
       "         [240, 237, 206]]], dtype=uint8),\n",
       " 'bboxes': [(0.20609894566098952,\n",
       "   0.19961070559610708,\n",
       "   0.6635198702351986,\n",
       "   0.7819302514193026)],\n",
       " 'class_labels': ['face']}"
      ]
     },
     "execution_count": 28,
     "metadata": {},
     "output_type": "execute_result"
    }
   ],
   "source": [
    "augmented_image"
   ]
  },
  {
   "cell_type": "code",
   "execution_count": 30,
   "metadata": {
    "colab": {
     "base_uri": "https://localhost:8080/"
    },
    "id": "Hrk0lFos-U7K",
    "outputId": "7c4554ae-5ee8-4500-ad37-13c56eeddc2f"
   },
   "outputs": [
    {
     "data": {
      "text/plain": [
       "(0.6635198702351986, 0.7819302514193026)"
      ]
     },
     "execution_count": 30,
     "metadata": {},
     "output_type": "execute_result"
    }
   ],
   "source": [
    "augmented_image['bboxes'][0][2:]"
   ]
  },
  {
   "cell_type": "code",
   "execution_count": null,
   "metadata": {
    "colab": {
     "base_uri": "https://localhost:8080/",
     "height": 452
    },
    "id": "36Y9r6_f-oko",
    "outputId": "49cadb8e-b52e-405e-cc0d-413c4174332c"
   },
   "outputs": [],
   "source": [
    "cv2.rectangle(augmented_image['image'],\n",
    "              tuple(np.multiply(augmented_image['bboxes'][0][:2], [450, 450]).astype(int)),\n",
    "              tuple(np.multiply(augmented_image['bboxes'][0][2:], [450, 450]).astype(int)),\n",
    "              (0, 0, 255), 2)\n",
    "\n",
    "plt.imshow(augmented_image['image'])"
   ]
  },
  {
   "cell_type": "code",
   "execution_count": 33,
   "metadata": {
    "id": "eiujU5Xb_vaV"
   },
   "outputs": [],
   "source": [
    "#now making an augmentation pipeline"
   ]
  },
  {
   "cell_type": "code",
   "execution_count": 92,
   "metadata": {
    "id": "QyQSEZj1_5Uk"
   },
   "outputs": [],
   "source": [
    "for partition in ['train','test','val']:\n",
    "    for image in os.listdir(os.path.join('data', partition, 'images')):\n",
    "        img = cv2.imread(os.path.join('data', partition, 'images', image))\n",
    "\n",
    "        coords = [0,0,0.00001,0.00001]\n",
    "        label_path = os.path.join('data', partition, 'labels', f'{image.split(\".\")[0]}.json')\n",
    "        if os.path.exists(label_path):\n",
    "            with open(label_path, 'r') as f:\n",
    "                label = json.load(f)\n",
    "\n",
    "            coords[0] = label['shapes'][0]['points'][0][0]\n",
    "            coords[1] = label['shapes'][0]['points'][0][1]\n",
    "            coords[2] = label['shapes'][0]['points'][1][0]\n",
    "            coords[3] = label['shapes'][0]['points'][1][1]\n",
    "            coords = list(np.divide(coords, [640,480,640,480]))\n",
    "\n",
    "        try:\n",
    "            for x in range(60):\n",
    "                augmented = augmentor(image=img, bboxes=[coords], class_labels=['face'])\n",
    "                cv2.imwrite(os.path.join('DATA', partition, 'images', f'{image.split(\".\")[0]}.{x}.jpg'), augmented['image'])\n",
    "\n",
    "                annotation = {}\n",
    "                annotation['image'] = image\n",
    "\n",
    "                if os.path.exists(label_path):\n",
    "                    if len(augmented['bboxes']) == 0:\n",
    "                        annotation['bbox'] = [0,0,0,0]\n",
    "                        annotation['class'] = 0\n",
    "                    else:\n",
    "                        annotation['bbox'] = augmented['bboxes'][0]\n",
    "                        annotation['class'] = 1\n",
    "                else:\n",
    "                    annotation['bbox'] = [0,0,0,0]\n",
    "                    annotation['class'] = 0\n",
    "\n",
    "\n",
    "                with open(os.path.join('DATA', partition, 'labels', f'{image.split(\".\")[0]}.{x}.json'), 'w') as f:\n",
    "                    json.dump(annotation, f)\n",
    "\n",
    "        except Exception as e:\n",
    "            print(e)"
   ]
  },
  {
   "cell_type": "code",
   "execution_count": 38,
   "metadata": {
    "id": "9soPLJ-uFdoe"
   },
   "outputs": [],
   "source": [
    "#loading the augmented dataset in our tensorflow dataset pipeline"
   ]
  },
  {
   "cell_type": "code",
   "execution_count": 93,
   "metadata": {
    "id": "AaNqByw2ISyJ"
   },
   "outputs": [],
   "source": [
    "def load_image(x):\n",
    "    byte_img = tf.io.read_file(x)\n",
    "    img = tf.io.decode_jpeg(byte_img)\n",
    "    return img"
   ]
  },
  {
   "cell_type": "code",
   "execution_count": 95,
   "metadata": {
    "id": "o3IMiOFKH-nH"
   },
   "outputs": [],
   "source": [
    "train_images = tf.data.Dataset.list_files('DATA/train/images/*.jpg', shuffle=False)\n",
    "train_images = train_images.map(load_image)\n",
    "train_images = train_images.map(lambda x: tf.image.resize(x, (120,120)))\n",
    "train_images = train_images.map(lambda x: x/255)"
   ]
  },
  {
   "cell_type": "code",
   "execution_count": 96,
   "metadata": {
    "id": "s7yTDwMsIpit"
   },
   "outputs": [],
   "source": [
    "test_images = tf.data.Dataset.list_files('DATA/test/images/*.jpg', shuffle=False)\n",
    "test_images = test_images.map(load_image)\n",
    "test_images = test_images.map(lambda x: tf.image.resize(x, (120,120)))\n",
    "test_images = test_images.map(lambda x: x/255)"
   ]
  },
  {
   "cell_type": "code",
   "execution_count": 97,
   "metadata": {
    "id": "-yPrsVS9JBlk"
   },
   "outputs": [],
   "source": [
    "val_images = tf.data.Dataset.list_files('DATA/val/images/*.jpg', shuffle=False)\n",
    "val_images = val_images.map(load_image)\n",
    "val_images = val_images.map(lambda x: tf.image.resize(x, (120,120)))\n",
    "val_images = val_images.map(lambda x: x/255)"
   ]
  },
  {
   "cell_type": "code",
   "execution_count": 98,
   "metadata": {
    "colab": {
     "base_uri": "https://localhost:8080/"
    },
    "id": "KnJOPqC_JLCE",
    "outputId": "7d8e52b2-f5c5-4462-a632-b4e427882962"
   },
   "outputs": [
    {
     "data": {
      "text/plain": [
       "array([[[0.66795343, 0.84932595, 0.8713848 ],\n",
       "        [0.7275735 , 0.8865809 , 0.9026961 ],\n",
       "        [0.7372549 , 0.88235295, 0.9107843 ],\n",
       "        ...,\n",
       "        [0.6021446 , 0.7746936 , 0.7864583 ],\n",
       "        [0.5980392 , 0.75030637, 0.7670343 ],\n",
       "        [0.5984681 , 0.7332721 , 0.7405025 ]],\n",
       "\n",
       "       [[0.5659314 , 0.7362132 , 0.78278184],\n",
       "        [0.7400122 , 0.8958946 , 0.9042279 ],\n",
       "        [0.75692403, 0.8941789 , 0.9088848 ],\n",
       "        ...,\n",
       "        [0.6186887 , 0.77947307, 0.79515934],\n",
       "        [0.6082721 , 0.74699754, 0.75533086],\n",
       "        [0.61697304, 0.73835784, 0.7490196 ]],\n",
       "\n",
       "       [[0.27144608, 0.43860295, 0.503799  ],\n",
       "        [0.7047181 , 0.86360294, 0.8860907 ],\n",
       "        [0.75147057, 0.9004902 , 0.9122549 ],\n",
       "        ...,\n",
       "        [0.61960787, 0.7808211 , 0.7873775 ],\n",
       "        [0.61476713, 0.77248776, 0.76862746],\n",
       "        [0.62107843, 0.752451  , 0.75      ]],\n",
       "\n",
       "       ...,\n",
       "\n",
       "       [[0.7463848 , 0.78707105, 0.7787377 ],\n",
       "        [0.76121324, 0.8043505 , 0.78682595],\n",
       "        [0.7681373 , 0.81911767, 0.7916667 ],\n",
       "        ...,\n",
       "        [0.6627451 , 0.70980394, 0.70980394],\n",
       "        [0.6528799 , 0.7068015 , 0.7068015 ],\n",
       "        [0.65772057, 0.7058824 , 0.6931372 ]],\n",
       "\n",
       "       [[0.7416667 , 0.7848039 , 0.76911765],\n",
       "        [0.7495098 , 0.79264706, 0.7612745 ],\n",
       "        [0.7533701 , 0.79993874, 0.76170343],\n",
       "        ...,\n",
       "        [0.67009807, 0.7102941 , 0.70686275],\n",
       "        [0.65974265, 0.70594364, 0.7003676 ],\n",
       "        [0.654902  , 0.70980394, 0.70980394]],\n",
       "\n",
       "       [[0.7314951 , 0.7776961 , 0.7477328 ],\n",
       "        [0.7378064 , 0.77996325, 0.7431985 ],\n",
       "        [0.73229164, 0.7744485 , 0.73768383],\n",
       "        ...,\n",
       "        [0.66954654, 0.7099265 , 0.69865197],\n",
       "        [0.66856617, 0.7126838 , 0.7106005 ],\n",
       "        [0.65925246, 0.7102941 , 0.71366423]]], dtype=float32)"
      ]
     },
     "execution_count": 98,
     "metadata": {},
     "output_type": "execute_result"
    }
   ],
   "source": [
    "train_images.as_numpy_iterator().next()"
   ]
  },
  {
   "cell_type": "code",
   "execution_count": 99,
   "metadata": {
    "id": "Rs4AwPCLJQLr"
   },
   "outputs": [],
   "source": [
    "def load_labels(label_path):\n",
    "    with open(label_path.numpy(), 'r', encoding = \"utf-8\") as f:\n",
    "        label = json.load(f)\n",
    "\n",
    "    return [label['class']], label['bbox']"
   ]
  },
  {
   "cell_type": "code",
   "execution_count": 100,
   "metadata": {
    "id": "fqHcU0OaJqvL"
   },
   "outputs": [],
   "source": [
    "train_labels = tf.data.Dataset.list_files('DATA/train/labels/*.json', shuffle=False)\n",
    "train_labels = train_labels.map(lambda x: tf.py_function(load_labels, [x], [tf.uint8, tf.float16]))"
   ]
  },
  {
   "cell_type": "code",
   "execution_count": 101,
   "metadata": {
    "id": "dfXG1qciKQNE"
   },
   "outputs": [],
   "source": [
    "test_labels = tf.data.Dataset.list_files('DATA/test/labels/*.json', shuffle=False)\n",
    "test_labels = test_labels.map(lambda x: tf.py_function(load_labels, [x], [tf.uint8, tf.float16]))"
   ]
  },
  {
   "cell_type": "code",
   "execution_count": 102,
   "metadata": {
    "id": "ewNdrp5tKYTw"
   },
   "outputs": [],
   "source": [
    "val_labels = tf.data.Dataset.list_files('DATA/val/labels/*.json', shuffle=False)\n",
    "val_labels = val_labels.map(lambda x: tf.py_function(load_labels, [x], [tf.uint8, tf.float16]))"
   ]
  },
  {
   "cell_type": "code",
   "execution_count": 103,
   "metadata": {
    "colab": {
     "base_uri": "https://localhost:8080/"
    },
    "id": "VdtWzTlKK2Ut",
    "outputId": "c4177ce9-9f72-4d24-cf5a-8a3c93ef3d44"
   },
   "outputs": [
    {
     "data": {
      "text/plain": [
       "(1080, 1080, 360, 360, 300, 300)"
      ]
     },
     "execution_count": 103,
     "metadata": {},
     "output_type": "execute_result"
    }
   ],
   "source": [
    "len(train_images), len(train_labels), len(test_images), len(test_labels), len(val_images), len(val_labels)\n"
   ]
  },
  {
   "cell_type": "code",
   "execution_count": 82,
   "metadata": {
    "id": "sqRSPl9XKejg"
   },
   "outputs": [],
   "source": [
    "#combining the labels and the image together"
   ]
  },
  {
   "cell_type": "code",
   "execution_count": 104,
   "metadata": {
    "id": "hotU4wV9Kg84"
   },
   "outputs": [],
   "source": [
    "train = tf.data.Dataset.zip((train_images, train_labels))\n",
    "train = train.shuffle(5000)\n",
    "train = train.batch(8)\n",
    "train = train.prefetch(4)"
   ]
  },
  {
   "cell_type": "code",
   "execution_count": 105,
   "metadata": {
    "id": "AMWiXv0hK9ww"
   },
   "outputs": [],
   "source": [
    "test = tf.data.Dataset.zip((test_images, test_labels))\n",
    "test = test.shuffle(1300)\n",
    "test = test.batch(8)\n",
    "test = test.prefetch(4)"
   ]
  },
  {
   "cell_type": "code",
   "execution_count": 106,
   "metadata": {
    "id": "dZWVvxiyLJtW"
   },
   "outputs": [],
   "source": [
    "val = tf.data.Dataset.zip((val_images, val_labels))\n",
    "val = val.shuffle(1000)\n",
    "val = val.batch(8)\n",
    "val = val.prefetch(4)"
   ]
  },
  {
   "cell_type": "code",
   "execution_count": 107,
   "metadata": {
    "colab": {
     "base_uri": "https://localhost:8080/"
    },
    "id": "QcHi_26-LLb-",
    "outputId": "1c57993c-ca39-41e9-d644-a95b5f363e10"
   },
   "outputs": [
    {
     "data": {
      "text/plain": [
       "(array([[1],\n",
       "        [1],\n",
       "        [1],\n",
       "        [1],\n",
       "        [1],\n",
       "        [1],\n",
       "        [1],\n",
       "        [1]], dtype=uint8),\n",
       " array([[0.24   , 0.1364 , 0.6685 , 0.678  ],\n",
       "        [0.0573 , 0.1781 , 0.5083 , 0.8643 ],\n",
       "        [0.2048 , 0.1774 , 0.643  , 0.758  ],\n",
       "        [0.102  , 0.2568 , 0.574  , 0.9155 ],\n",
       "        [0.08307, 0.04617, 0.5776 , 0.752  ],\n",
       "        [0.224  , 0.118  , 0.675  , 0.804  ],\n",
       "        [0.223  , 0.266  , 0.718  , 0.9717 ],\n",
       "        [0.4993 , 0.06433, 0.9697 , 0.7036 ]], dtype=float16))"
      ]
     },
     "execution_count": 107,
     "metadata": {},
     "output_type": "execute_result"
    }
   ],
   "source": [
    "train.as_numpy_iterator().next()[1]"
   ]
  },
  {
   "cell_type": "code",
   "execution_count": 109,
   "metadata": {
    "id": "jtZvcmmDLNIm"
   },
   "outputs": [],
   "source": [
    "#making the deep learning model"
   ]
  },
  {
   "cell_type": "code",
   "execution_count": 110,
   "metadata": {
    "id": "6tBHBprTMtL6"
   },
   "outputs": [],
   "source": [
    "from tensorflow.keras.models import Model\n",
    "from tensorflow.keras.layers import Input, Conv2D, Dense, GlobalMaxPooling2D\n",
    "from tensorflow.keras.applications import VGG16"
   ]
  },
  {
   "cell_type": "code",
   "execution_count": 112,
   "metadata": {
    "colab": {
     "base_uri": "https://localhost:8080/"
    },
    "id": "t_ZzAwPuQSAx",
    "outputId": "fb419e5d-5123-45f8-c1e2-3976ebe6b25e"
   },
   "outputs": [
    {
     "name": "stdout",
     "output_type": "stream",
     "text": [
      "Downloading data from https://storage.googleapis.com/tensorflow/keras-applications/vgg16/vgg16_weights_tf_dim_ordering_tf_kernels_notop.h5\n",
      "58889256/58889256 [==============================] - 0s 0us/step\n"
     ]
    }
   ],
   "source": [
    "vgg = VGG16(include_top = False)"
   ]
  },
  {
   "cell_type": "code",
   "execution_count": 113,
   "metadata": {
    "id": "wsNS7OEmQXDZ"
   },
   "outputs": [],
   "source": [
    "def build_model():\n",
    "  input_layer = Input(shape = (120, 120, 3))\n",
    "\n",
    "  vgg = VGG16(include_top = False)(input_layer)\n",
    "\n",
    "  #classification model\n",
    "  f1 = GlobalMaxPooling2D()(vgg)\n",
    "  class1 = Dense(2048, activation = 'relu')(f1)\n",
    "  class2 = Dense(1, activation = 'sigmoid')(class1)\n",
    "\n",
    "  #regression loss\n",
    "  f1 = GlobalMaxPooling2D()(vgg)\n",
    "  regres1 = Dense(2048, activation = 'relu')(f1)\n",
    "  regres2 = Dense(4, activation = 'sigmoid')(regres1)\n",
    "\n",
    "  facetracker = Model(inputs = input_layer, outputs = [class2, regres2])\n",
    "\n",
    "  return facetracker"
   ]
  },
  {
   "cell_type": "code",
   "execution_count": 114,
   "metadata": {
    "id": "mhdaAWZRReKu"
   },
   "outputs": [],
   "source": [
    "facetracker = build_model()"
   ]
  },
  {
   "cell_type": "code",
   "execution_count": 115,
   "metadata": {
    "colab": {
     "base_uri": "https://localhost:8080/"
    },
    "id": "oT6CXF7ARiqV",
    "outputId": "696bd500-7ec3-4aae-b831-f42a58554ac5"
   },
   "outputs": [
    {
     "name": "stdout",
     "output_type": "stream",
     "text": [
      "Model: \"model\"\n",
      "__________________________________________________________________________________________________\n",
      " Layer (type)                   Output Shape         Param #     Connected to                     \n",
      "==================================================================================================\n",
      " input_2 (InputLayer)           [(None, 120, 120, 3  0           []                               \n",
      "                                )]                                                                \n",
      "                                                                                                  \n",
      " vgg16 (Functional)             (None, None, None,   14714688    ['input_2[0][0]']                \n",
      "                                512)                                                              \n",
      "                                                                                                  \n",
      " global_max_pooling2d (GlobalMa  (None, 512)         0           ['vgg16[0][0]']                  \n",
      " xPooling2D)                                                                                      \n",
      "                                                                                                  \n",
      " global_max_pooling2d_1 (Global  (None, 512)         0           ['vgg16[0][0]']                  \n",
      " MaxPooling2D)                                                                                    \n",
      "                                                                                                  \n",
      " dense (Dense)                  (None, 2048)         1050624     ['global_max_pooling2d[0][0]']   \n",
      "                                                                                                  \n",
      " dense_2 (Dense)                (None, 2048)         1050624     ['global_max_pooling2d_1[0][0]'] \n",
      "                                                                                                  \n",
      " dense_1 (Dense)                (None, 1)            2049        ['dense[0][0]']                  \n",
      "                                                                                                  \n",
      " dense_3 (Dense)                (None, 4)            8196        ['dense_2[0][0]']                \n",
      "                                                                                                  \n",
      "==================================================================================================\n",
      "Total params: 16,826,181\n",
      "Trainable params: 16,826,181\n",
      "Non-trainable params: 0\n",
      "__________________________________________________________________________________________________\n"
     ]
    }
   ],
   "source": [
    "facetracker.summary()"
   ]
  },
  {
   "cell_type": "code",
   "execution_count": 116,
   "metadata": {
    "id": "IpOJ1TWJRlfu"
   },
   "outputs": [],
   "source": [
    "X, y = train.as_numpy_iterator().next()"
   ]
  },
  {
   "cell_type": "code",
   "execution_count": 117,
   "metadata": {
    "colab": {
     "base_uri": "https://localhost:8080/"
    },
    "id": "c824CFjSRuht",
    "outputId": "53084113-6004-4bbd-d2a5-f4d7b04559d2"
   },
   "outputs": [
    {
     "data": {
      "text/plain": [
       "(8, 120, 120, 3)"
      ]
     },
     "execution_count": 117,
     "metadata": {},
     "output_type": "execute_result"
    }
   ],
   "source": [
    "X.shape"
   ]
  },
  {
   "cell_type": "code",
   "execution_count": 118,
   "metadata": {
    "colab": {
     "base_uri": "https://localhost:8080/"
    },
    "id": "zNpxNGiXRw8d",
    "outputId": "306637af-22d7-42d3-ba66-4de728184206"
   },
   "outputs": [
    {
     "name": "stdout",
     "output_type": "stream",
     "text": [
      "1/1 [==============================] - 10s 10s/step\n"
     ]
    }
   ],
   "source": [
    "classes, coords = facetracker.predict(X)"
   ]
  },
  {
   "cell_type": "code",
   "execution_count": 119,
   "metadata": {
    "colab": {
     "base_uri": "https://localhost:8080/"
    },
    "id": "P-h6bJzPR4xl",
    "outputId": "8f49a5ab-2e20-41d5-dfb5-26fb1def525b"
   },
   "outputs": [
    {
     "data": {
      "text/plain": [
       "array([[0.5893438 ],\n",
       "       [0.74408567],\n",
       "       [0.51121366],\n",
       "       [0.551796  ],\n",
       "       [0.5994262 ],\n",
       "       [0.63766974],\n",
       "       [0.5690109 ],\n",
       "       [0.46554455]], dtype=float32)"
      ]
     },
     "execution_count": 119,
     "metadata": {},
     "output_type": "execute_result"
    }
   ],
   "source": [
    "classes"
   ]
  },
  {
   "cell_type": "code",
   "execution_count": 120,
   "metadata": {
    "colab": {
     "base_uri": "https://localhost:8080/"
    },
    "id": "w_QFP8bjR8GU",
    "outputId": "2bbab7ec-33b0-44fa-b965-95fea153559c"
   },
   "outputs": [
    {
     "data": {
      "text/plain": [
       "array([[0.33478627, 0.40122658, 0.37259132, 0.37758005],\n",
       "       [0.3946936 , 0.38691047, 0.3823151 , 0.36963627],\n",
       "       [0.35267124, 0.29128823, 0.33727336, 0.41001254],\n",
       "       [0.38308996, 0.38366228, 0.32710922, 0.44137123],\n",
       "       [0.35661465, 0.3958627 , 0.41427523, 0.363432  ],\n",
       "       [0.33384854, 0.3226989 , 0.38137263, 0.3608766 ],\n",
       "       [0.4198646 , 0.31612223, 0.34842077, 0.4269532 ],\n",
       "       [0.39756805, 0.36370334, 0.32280356, 0.44559598]], dtype=float32)"
      ]
     },
     "execution_count": 120,
     "metadata": {},
     "output_type": "execute_result"
    }
   ],
   "source": [
    "coords"
   ]
  },
  {
   "cell_type": "code",
   "execution_count": 121,
   "metadata": {
    "id": "HzZR3WpAR8-U"
   },
   "outputs": [],
   "source": [
    "batches_per_epoch = len(train)\n",
    "lr_decay = (1/0.75 - 1)/batches_per_epoch"
   ]
  },
  {
   "cell_type": "code",
   "execution_count": 123,
   "metadata": {
    "id": "SjurUu0VSfTj"
   },
   "outputs": [],
   "source": [
    "opt = tf.keras.optimizers.Adam(learning_rate = 0.0001)"
   ]
  },
  {
   "cell_type": "code",
   "execution_count": 124,
   "metadata": {
    "id": "ZMDtM67hSs3a"
   },
   "outputs": [],
   "source": [
    "#defining the regression loss"
   ]
  },
  {
   "cell_type": "code",
   "execution_count": 125,
   "metadata": {
    "id": "uORj6BZIS0RK"
   },
   "outputs": [],
   "source": [
    "def localization_loss(y_true, ypred):\n",
    "  delta_coord = tf.reduce_sum(tf.square(y_true[:, :2] - ypred[:, :2]))\n",
    "\n",
    "  h_true = y_true[:, 3] - y_true[:, 1]\n",
    "  w_true = y_true[:, 2] - y_true[:, 0]\n",
    "\n",
    "  h_pred = ypred[:, 3] - ypred[:, 1]\n",
    "  w_pred = ypred[:, 2] - ypred[:, 0]\n",
    "\n",
    "  delta_size = tf.reduce_sum(tf.square(w_true - w_pred) + tf.square(h_true - h_pred))\n",
    "\n",
    "  return delta_coord + delta_size"
   ]
  },
  {
   "cell_type": "code",
   "execution_count": 126,
   "metadata": {
    "id": "Dzcov94HT0TI"
   },
   "outputs": [],
   "source": [
    "classloss = tf.keras.losses.BinaryCrossentropy()\n",
    "regressloss = localization_loss"
   ]
  },
  {
   "cell_type": "code",
   "execution_count": 130,
   "metadata": {
    "colab": {
     "base_uri": "https://localhost:8080/"
    },
    "id": "QrjgPigEUBYv",
    "outputId": "1b428bd5-19c6-4f98-dddf-e4b69f381a27"
   },
   "outputs": [
    {
     "data": {
      "text/plain": [
       "<tf.Tensor: shape=(), dtype=float32, numpy=4.5345855>"
      ]
     },
     "execution_count": 130,
     "metadata": {},
     "output_type": "execute_result"
    }
   ],
   "source": [
    "localization_loss(y[1], coords)"
   ]
  },
  {
   "cell_type": "code",
   "execution_count": 131,
   "metadata": {
    "colab": {
     "base_uri": "https://localhost:8080/"
    },
    "id": "2a6vzijLUDzv",
    "outputId": "0db6b701-4edf-4c4f-b0da-7eb7240b57d8"
   },
   "outputs": [
    {
     "data": {
      "text/plain": [
       "<tf.Tensor: shape=(), dtype=float32, numpy=0.54750097>"
      ]
     },
     "execution_count": 131,
     "metadata": {},
     "output_type": "execute_result"
    }
   ],
   "source": [
    "classloss(y[0], classes)"
   ]
  },
  {
   "cell_type": "code",
   "execution_count": 132,
   "metadata": {
    "id": "YC86Qt6rUOL-"
   },
   "outputs": [],
   "source": [
    "#training a neural network"
   ]
  },
  {
   "cell_type": "code",
   "execution_count": 135,
   "metadata": {
    "id": "fKwZZhbTUend"
   },
   "outputs": [],
   "source": [
    "class Facetracker(Model):\n",
    "\n",
    "  def __init__(self, facetracker, **kwargs):\n",
    "    super().__init__(**kwargs)\n",
    "    self.model = facetracker\n",
    "\n",
    "\n",
    "  def compile(self, opt, classloss, regressloss, **kwargs):\n",
    "    super().compile(**kwargs)\n",
    "    self.opt = opt\n",
    "    self.classloss = classloss\n",
    "    self.regressloss = regressloss\n",
    "\n",
    "  def train_step(self, batch, **kwargs):\n",
    "    X, y = batch\n",
    "\n",
    "    with tf.GradientTape() as tape:\n",
    "      classes, coords = self.model(X, training = True)\n",
    "\n",
    "      batch_classloss = self.classloss(y[0], classes)\n",
    "      batch_localization_loss = self.regressloss(tf.cast(y[1], tf.float32), coords)\n",
    "\n",
    "      total_loss = batch_localization_loss + 0.5*batch_classloss\n",
    "\n",
    "      grad = tape.gradient(total_loss, self.model.trainable_variables)\n",
    "\n",
    "    opt.apply_gradients(zip(grad, self.model.trainable_variables))\n",
    "\n",
    "    return {\"total_loss\":total_loss, \"class_loss\":batch_classloss, \"regress_loss\":batch_localization_loss}\n",
    "\n",
    "  def test_step(self, batch, **kwargs):\n",
    "    X, y = batch\n",
    "\n",
    "    classes, coords = self.model(X, training = False)\n",
    "\n",
    "    batch_classloss = self.classloss(y[0], classes)\n",
    "    batch_localization_loss = self.regressloss(tf.cast(y[1], tf.float32), coords)\n",
    "\n",
    "    total_loss = batch_localization_loss + 0.5*batch_classloss\n",
    "\n",
    "    return {\"total_loss\":total_loss, \"class_loss\":batch_classloss, \"regress_loss\":batch_localization_loss}\n",
    "\n",
    "\n",
    "  def call(self, X, **kwargs):\n",
    "    return self.model(X, **kwargs)\n"
   ]
  },
  {
   "cell_type": "code",
   "execution_count": 136,
   "metadata": {
    "id": "C1udtXy-UgK1"
   },
   "outputs": [],
   "source": [
    "model = Facetracker(facetracker)"
   ]
  },
  {
   "cell_type": "code",
   "execution_count": 137,
   "metadata": {
    "id": "x0cZ4zIiXGHe"
   },
   "outputs": [],
   "source": [
    "model.compile(opt, classloss, regressloss)"
   ]
  },
  {
   "cell_type": "code",
   "execution_count": 138,
   "metadata": {
    "id": "v0iIiWyEXfbe"
   },
   "outputs": [],
   "source": [
    "logdir='logs'\n",
    "tensorboard_callback = tf.keras.callbacks.TensorBoard(log_dir=logdir)"
   ]
  },
  {
   "cell_type": "code",
   "execution_count": 139,
   "metadata": {
    "colab": {
     "base_uri": "https://localhost:8080/"
    },
    "id": "znwoGxgfXkSO",
    "outputId": "e57d099d-8a88-4489-9a2d-e2c38b497d8f",
    "scrolled": true
   },
   "outputs": [
    {
     "name": "stdout",
     "output_type": "stream",
     "text": [
      "Epoch 1/100\n",
      "135/135 [==============================] - 24s 77ms/step - total_loss: 0.1837 - class_loss: 0.0095 - regress_loss: 0.1790 - val_total_loss: 0.0145 - val_class_loss: 2.8700e-05 - val_regress_loss: 0.0145\n",
      "Epoch 2/100\n",
      "135/135 [==============================] - 11s 66ms/step - total_loss: 0.0248 - class_loss: 6.0237e-05 - regress_loss: 0.0248 - val_total_loss: 0.0207 - val_class_loss: 1.3024e-05 - val_regress_loss: 0.0207\n",
      "Epoch 3/100\n",
      "135/135 [==============================] - 11s 66ms/step - total_loss: 0.0196 - class_loss: 1.9657e-05 - regress_loss: 0.0196 - val_total_loss: 0.0214 - val_class_loss: 5.6327e-06 - val_regress_loss: 0.0214\n",
      "Epoch 4/100\n",
      "135/135 [==============================] - 12s 68ms/step - total_loss: 0.0139 - class_loss: 7.7859e-06 - regress_loss: 0.0139 - val_total_loss: 0.0113 - val_class_loss: 3.0994e-06 - val_regress_loss: 0.0113\n",
      "Epoch 5/100\n",
      "135/135 [==============================] - 12s 71ms/step - total_loss: 0.0097 - class_loss: 3.7949e-06 - regress_loss: 0.0097 - val_total_loss: 0.0118 - val_class_loss: 8.3447e-07 - val_regress_loss: 0.0118\n",
      "Epoch 6/100\n",
      "135/135 [==============================] - 11s 71ms/step - total_loss: 0.0092 - class_loss: 2.4976e-06 - regress_loss: 0.0092 - val_total_loss: 0.0189 - val_class_loss: 8.9407e-08 - val_regress_loss: 0.0189\n",
      "Epoch 7/100\n",
      "135/135 [==============================] - 11s 67ms/step - total_loss: 0.0071 - class_loss: 2.1298e-06 - regress_loss: 0.0071 - val_total_loss: 0.0085 - val_class_loss: 3.5763e-07 - val_regress_loss: 0.0085\n",
      "Epoch 8/100\n",
      "135/135 [==============================] - 11s 66ms/step - total_loss: 0.0066 - class_loss: 1.4636e-06 - regress_loss: 0.0066 - val_total_loss: 0.0259 - val_class_loss: 5.6624e-07 - val_regress_loss: 0.0259\n",
      "Epoch 9/100\n",
      "135/135 [==============================] - 11s 67ms/step - total_loss: 0.0060 - class_loss: 1.1714e-06 - regress_loss: 0.0060 - val_total_loss: 0.0394 - val_class_loss: 2.9802e-08 - val_regress_loss: 0.0394\n",
      "Epoch 10/100\n",
      "135/135 [==============================] - 11s 68ms/step - total_loss: 0.0048 - class_loss: 7.9678e-07 - regress_loss: 0.0048 - val_total_loss: 0.0183 - val_class_loss: 2.3842e-07 - val_regress_loss: 0.0183\n",
      "Epoch 11/100\n",
      "135/135 [==============================] - 11s 68ms/step - total_loss: 0.0030 - class_loss: 6.0909e-07 - regress_loss: 0.0030 - val_total_loss: 0.0115 - val_class_loss: 5.9605e-08 - val_regress_loss: 0.0115\n",
      "Epoch 12/100\n",
      "135/135 [==============================] - 11s 69ms/step - total_loss: 0.0025 - class_loss: 5.5474e-07 - regress_loss: 0.0025 - val_total_loss: 0.0084 - val_class_loss: 0.0000e+00 - val_regress_loss: 0.0084\n",
      "Epoch 13/100\n",
      "135/135 [==============================] - 12s 76ms/step - total_loss: 0.0043 - class_loss: 4.5098e-07 - regress_loss: 0.0043 - val_total_loss: 0.0086 - val_class_loss: 2.9802e-08 - val_regress_loss: 0.0086\n",
      "Epoch 14/100\n",
      "135/135 [==============================] - 12s 76ms/step - total_loss: 0.0089 - class_loss: 5.9725e-07 - regress_loss: 0.0089 - val_total_loss: 0.0089 - val_class_loss: 2.3842e-07 - val_regress_loss: 0.0089\n",
      "Epoch 15/100\n",
      "135/135 [==============================] - 11s 70ms/step - total_loss: 0.0044 - class_loss: 4.9831e-07 - regress_loss: 0.0044 - val_total_loss: 0.0096 - val_class_loss: 8.9407e-08 - val_regress_loss: 0.0096\n",
      "Epoch 16/100\n",
      "135/135 [==============================] - 11s 66ms/step - total_loss: 0.0028 - class_loss: 3.3528e-07 - regress_loss: 0.0028 - val_total_loss: 0.0096 - val_class_loss: 5.9605e-08 - val_regress_loss: 0.0096\n",
      "Epoch 17/100\n",
      "135/135 [==============================] - 12s 66ms/step - total_loss: 0.0028 - class_loss: 3.0887e-07 - regress_loss: 0.0028 - val_total_loss: 0.0116 - val_class_loss: 0.0000e+00 - val_regress_loss: 0.0116\n",
      "Epoch 18/100\n",
      "135/135 [==============================] - 11s 67ms/step - total_loss: 0.0043 - class_loss: 2.8981e-07 - regress_loss: 0.0043 - val_total_loss: 0.0098 - val_class_loss: 1.4901e-07 - val_regress_loss: 0.0098\n",
      "Epoch 19/100\n",
      "135/135 [==============================] - 11s 67ms/step - total_loss: 0.0031 - class_loss: 2.0982e-07 - regress_loss: 0.0031 - val_total_loss: 0.0147 - val_class_loss: 0.0000e+00 - val_regress_loss: 0.0147\n",
      "Epoch 20/100\n",
      "135/135 [==============================] - 11s 67ms/step - total_loss: 0.0030 - class_loss: 2.0336e-07 - regress_loss: 0.0030 - val_total_loss: 0.0114 - val_class_loss: 8.9407e-08 - val_regress_loss: 0.0114\n",
      "Epoch 21/100\n",
      "135/135 [==============================] - 11s 67ms/step - total_loss: 0.0021 - class_loss: 1.6501e-07 - regress_loss: 0.0021 - val_total_loss: 0.0106 - val_class_loss: 2.0862e-07 - val_regress_loss: 0.0106\n",
      "Epoch 22/100\n",
      "135/135 [==============================] - 11s 67ms/step - total_loss: 0.0028 - class_loss: 1.3762e-07 - regress_loss: 0.0028 - val_total_loss: 0.0130 - val_class_loss: 0.0000e+00 - val_regress_loss: 0.0130\n",
      "Epoch 23/100\n",
      "135/135 [==============================] - 11s 71ms/step - total_loss: 0.0037 - class_loss: 1.5076e-07 - regress_loss: 0.0037 - val_total_loss: 0.0098 - val_class_loss: 5.9605e-08 - val_regress_loss: 0.0098\n",
      "Epoch 24/100\n",
      "135/135 [==============================] - 12s 76ms/step - total_loss: 0.0038 - class_loss: 1.6238e-07 - regress_loss: 0.0038 - val_total_loss: 0.0197 - val_class_loss: 2.9802e-08 - val_regress_loss: 0.0197\n",
      "Epoch 25/100\n",
      "135/135 [==============================] - 11s 70ms/step - total_loss: 0.0035 - class_loss: 1.2907e-07 - regress_loss: 0.0035 - val_total_loss: 0.0131 - val_class_loss: 5.9605e-08 - val_regress_loss: 0.0131\n",
      "Epoch 26/100\n",
      "135/135 [==============================] - 13s 70ms/step - total_loss: 0.0029 - class_loss: 1.0486e-07 - regress_loss: 0.0029 - val_total_loss: 0.0220 - val_class_loss: 0.0000e+00 - val_regress_loss: 0.0220\n",
      "Epoch 27/100\n",
      "135/135 [==============================] - 11s 68ms/step - total_loss: 0.0041 - class_loss: 1.3959e-07 - regress_loss: 0.0041 - val_total_loss: 0.0068 - val_class_loss: 0.0000e+00 - val_regress_loss: 0.0068\n",
      "Epoch 28/100\n",
      "135/135 [==============================] - 11s 66ms/step - total_loss: 0.0030 - class_loss: 1.3170e-07 - regress_loss: 0.0030 - val_total_loss: 0.0108 - val_class_loss: 2.9802e-08 - val_regress_loss: 0.0108\n",
      "Epoch 29/100\n",
      "135/135 [==============================] - 12s 76ms/step - total_loss: 0.0021 - class_loss: 8.0861e-08 - regress_loss: 0.0021 - val_total_loss: 0.0085 - val_class_loss: 0.0000e+00 - val_regress_loss: 0.0085\n",
      "Epoch 30/100\n",
      "135/135 [==============================] - 14s 75ms/step - total_loss: 0.0030 - class_loss: 8.4148e-08 - regress_loss: 0.0030 - val_total_loss: 0.0073 - val_class_loss: 2.9802e-08 - val_regress_loss: 0.0073\n",
      "Epoch 31/100\n",
      "135/135 [==============================] - 12s 74ms/step - total_loss: 0.0019 - class_loss: 8.8640e-08 - regress_loss: 0.0019 - val_total_loss: 0.0152 - val_class_loss: 5.9605e-08 - val_regress_loss: 0.0152\n",
      "Epoch 32/100\n",
      "135/135 [==============================] - 14s 73ms/step - total_loss: 0.0027 - class_loss: 7.9656e-08 - regress_loss: 0.0027 - val_total_loss: 0.0047 - val_class_loss: 0.0000e+00 - val_regress_loss: 0.0047\n",
      "Epoch 33/100\n",
      "135/135 [==============================] - 13s 76ms/step - total_loss: 0.0020 - class_loss: 6.3111e-08 - regress_loss: 0.0020 - val_total_loss: 0.0157 - val_class_loss: 0.0000e+00 - val_regress_loss: 0.0157\n",
      "Epoch 34/100\n",
      "135/135 [==============================] - 14s 78ms/step - total_loss: 0.0052 - class_loss: 5.3250e-08 - regress_loss: 0.0052 - val_total_loss: 0.0116 - val_class_loss: 0.0000e+00 - val_regress_loss: 0.0116\n",
      "Epoch 35/100\n",
      "135/135 [==============================] - 12s 75ms/step - total_loss: 0.0047 - class_loss: 7.2095e-08 - regress_loss: 0.0047 - val_total_loss: 0.0098 - val_class_loss: 0.0000e+00 - val_regress_loss: 0.0098\n",
      "Epoch 36/100\n",
      "135/135 [==============================] - 13s 74ms/step - total_loss: 0.0055 - class_loss: 7.9765e-08 - regress_loss: 0.0055 - val_total_loss: 0.0098 - val_class_loss: 0.0000e+00 - val_regress_loss: 0.0098\n",
      "Epoch 37/100\n",
      "135/135 [==============================] - 15s 82ms/step - total_loss: 0.0021 - class_loss: 6.2015e-08 - regress_loss: 0.0021 - val_total_loss: 0.0110 - val_class_loss: 0.0000e+00 - val_regress_loss: 0.0110\n",
      "Epoch 38/100\n",
      "135/135 [==============================] - 14s 74ms/step - total_loss: 0.0021 - class_loss: 5.0182e-08 - regress_loss: 0.0021 - val_total_loss: 0.0085 - val_class_loss: 0.0000e+00 - val_regress_loss: 0.0085\n",
      "Epoch 39/100\n",
      "135/135 [==============================] - 16s 81ms/step - total_loss: 0.0024 - class_loss: 4.5909e-08 - regress_loss: 0.0024 - val_total_loss: 0.0068 - val_class_loss: 0.0000e+00 - val_regress_loss: 0.0068\n",
      "Epoch 40/100\n",
      "135/135 [==============================] - 15s 80ms/step - total_loss: 0.0020 - class_loss: 3.9444e-08 - regress_loss: 0.0020 - val_total_loss: 0.0093 - val_class_loss: 0.0000e+00 - val_regress_loss: 0.0093\n",
      "Epoch 41/100\n",
      "135/135 [==============================] - 14s 76ms/step - total_loss: 0.0022 - class_loss: 3.2432e-08 - regress_loss: 0.0022 - val_total_loss: 0.0083 - val_class_loss: 0.0000e+00 - val_regress_loss: 0.0083\n",
      "Epoch 42/100\n",
      "135/135 [==============================] - 14s 75ms/step - total_loss: 0.0021 - class_loss: 2.9254e-08 - regress_loss: 0.0021 - val_total_loss: 0.0104 - val_class_loss: 0.0000e+00 - val_regress_loss: 0.0104\n",
      "Epoch 43/100\n",
      "135/135 [==============================] - 15s 80ms/step - total_loss: 0.0020 - class_loss: 2.5420e-08 - regress_loss: 0.0020 - val_total_loss: 0.0075 - val_class_loss: 0.0000e+00 - val_regress_loss: 0.0075\n",
      "Epoch 44/100\n",
      "135/135 [==============================] - 16s 85ms/step - total_loss: 0.0014 - class_loss: 2.0599e-08 - regress_loss: 0.0014 - val_total_loss: 0.0099 - val_class_loss: 0.0000e+00 - val_regress_loss: 0.0099\n",
      "Epoch 45/100\n",
      "135/135 [==============================] - 15s 81ms/step - total_loss: 0.0015 - class_loss: 1.8188e-08 - regress_loss: 0.0015 - val_total_loss: 0.0099 - val_class_loss: 0.0000e+00 - val_regress_loss: 0.0099\n",
      "Epoch 46/100\n",
      "135/135 [==============================] - 16s 81ms/step - total_loss: 0.0026 - class_loss: 1.7202e-08 - regress_loss: 0.0026 - val_total_loss: 0.0139 - val_class_loss: 0.0000e+00 - val_regress_loss: 0.0139\n",
      "Epoch 47/100\n",
      "135/135 [==============================] - 14s 76ms/step - total_loss: 0.0027 - class_loss: 1.7969e-08 - regress_loss: 0.0027 - val_total_loss: 0.0099 - val_class_loss: 0.0000e+00 - val_regress_loss: 0.0099\n",
      "Epoch 48/100\n",
      "135/135 [==============================] - 12s 67ms/step - total_loss: 0.0021 - class_loss: 1.4572e-08 - regress_loss: 0.0021 - val_total_loss: 0.0104 - val_class_loss: 0.0000e+00 - val_regress_loss: 0.0104\n",
      "Epoch 49/100\n",
      "135/135 [==============================] - 12s 73ms/step - total_loss: 0.0014 - class_loss: 1.2052e-08 - regress_loss: 0.0014 - val_total_loss: 0.0119 - val_class_loss: 0.0000e+00 - val_regress_loss: 0.0119\n",
      "Epoch 50/100\n",
      "135/135 [==============================] - 14s 78ms/step - total_loss: 0.0029 - class_loss: 1.1833e-08 - regress_loss: 0.0029 - val_total_loss: 0.0085 - val_class_loss: 0.0000e+00 - val_regress_loss: 0.0085\n",
      "Epoch 51/100\n",
      "135/135 [==============================] - 15s 73ms/step - total_loss: 0.0065 - class_loss: 2.1147e-08 - regress_loss: 0.0065 - val_total_loss: 0.0102 - val_class_loss: 0.0000e+00 - val_regress_loss: 0.0102\n",
      "Epoch 52/100\n",
      "135/135 [==============================] - 12s 68ms/step - total_loss: 0.0085 - class_loss: 2.9035e-08 - regress_loss: 0.0085 - val_total_loss: 0.0103 - val_class_loss: 0.0000e+00 - val_regress_loss: 0.0103\n",
      "Epoch 53/100\n",
      "135/135 [==============================] - 11s 67ms/step - total_loss: 0.0036 - class_loss: 3.7362e-08 - regress_loss: 0.0036 - val_total_loss: 0.0172 - val_class_loss: 0.0000e+00 - val_regress_loss: 0.0172\n",
      "Epoch 54/100\n",
      "135/135 [==============================] - 11s 67ms/step - total_loss: 0.0014 - class_loss: 1.9722e-08 - regress_loss: 0.0014 - val_total_loss: 0.0127 - val_class_loss: 0.0000e+00 - val_regress_loss: 0.0127\n",
      "Epoch 55/100\n",
      "135/135 [==============================] - 11s 67ms/step - total_loss: 8.2102e-04 - class_loss: 9.7515e-09 - regress_loss: 8.2101e-04 - val_total_loss: 0.0078 - val_class_loss: 0.0000e+00 - val_regress_loss: 0.0078\n",
      "Epoch 56/100\n",
      "135/135 [==============================] - 11s 67ms/step - total_loss: 5.8228e-04 - class_loss: 6.9027e-09 - regress_loss: 5.8227e-04 - val_total_loss: 0.0096 - val_class_loss: 0.0000e+00 - val_regress_loss: 0.0096\n",
      "Epoch 57/100\n",
      "135/135 [==============================] - 11s 69ms/step - total_loss: 4.5431e-04 - class_loss: 6.3549e-09 - regress_loss: 4.5431e-04 - val_total_loss: 0.0114 - val_class_loss: 0.0000e+00 - val_regress_loss: 0.0114\n",
      "Epoch 58/100\n",
      "135/135 [==============================] - 12s 76ms/step - total_loss: 5.7339e-04 - class_loss: 4.0540e-09 - regress_loss: 5.7339e-04 - val_total_loss: 0.0142 - val_class_loss: 0.0000e+00 - val_regress_loss: 0.0142\n",
      "Epoch 59/100\n",
      "135/135 [==============================] - 11s 70ms/step - total_loss: 8.3008e-04 - class_loss: 3.7253e-09 - regress_loss: 8.3008e-04 - val_total_loss: 0.0091 - val_class_loss: 0.0000e+00 - val_regress_loss: 0.0091\n",
      "Epoch 60/100\n",
      "135/135 [==============================] - 11s 67ms/step - total_loss: 0.0024 - class_loss: 3.2870e-09 - regress_loss: 0.0024 - val_total_loss: 0.0122 - val_class_loss: 0.0000e+00 - val_regress_loss: 0.0122\n",
      "Epoch 61/100\n",
      "135/135 [==============================] - 12s 73ms/step - total_loss: 0.0018 - class_loss: 5.8071e-09 - regress_loss: 0.0018 - val_total_loss: 0.0166 - val_class_loss: 0.0000e+00 - val_regress_loss: 0.0166\n",
      "Epoch 62/100\n",
      "135/135 [==============================] - 11s 67ms/step - total_loss: 0.0014 - class_loss: 2.4105e-09 - regress_loss: 0.0014 - val_total_loss: 0.0177 - val_class_loss: 0.0000e+00 - val_regress_loss: 0.0177\n",
      "Epoch 63/100\n",
      "135/135 [==============================] - 11s 66ms/step - total_loss: 0.0022 - class_loss: 3.8349e-09 - regress_loss: 0.0022 - val_total_loss: 0.0104 - val_class_loss: 0.0000e+00 - val_regress_loss: 0.0104\n",
      "Epoch 64/100\n",
      "135/135 [==============================] - 11s 67ms/step - total_loss: 0.0020 - class_loss: 2.9583e-09 - regress_loss: 0.0020 - val_total_loss: 0.0071 - val_class_loss: 0.0000e+00 - val_regress_loss: 0.0071\n",
      "Epoch 65/100\n",
      "135/135 [==============================] - 11s 71ms/step - total_loss: 0.0032 - class_loss: 6.5740e-09 - regress_loss: 0.0032 - val_total_loss: 0.0191 - val_class_loss: 0.0000e+00 - val_regress_loss: 0.0191\n",
      "Epoch 66/100\n",
      "135/135 [==============================] - 12s 76ms/step - total_loss: 0.0023 - class_loss: 3.3966e-09 - regress_loss: 0.0023 - val_total_loss: 0.0122 - val_class_loss: 0.0000e+00 - val_regress_loss: 0.0122\n",
      "Epoch 67/100\n",
      "135/135 [==============================] - 11s 69ms/step - total_loss: 0.0017 - class_loss: 4.1636e-09 - regress_loss: 0.0017 - val_total_loss: 0.0093 - val_class_loss: 0.0000e+00 - val_regress_loss: 0.0093\n",
      "Epoch 68/100\n",
      "135/135 [==============================] - 11s 66ms/step - total_loss: 0.0023 - class_loss: 4.3827e-09 - regress_loss: 0.0023 - val_total_loss: 0.0177 - val_class_loss: 0.0000e+00 - val_regress_loss: 0.0177\n",
      "Epoch 69/100\n",
      "135/135 [==============================] - 12s 66ms/step - total_loss: 0.0013 - class_loss: 1.7531e-09 - regress_loss: 0.0013 - val_total_loss: 0.0153 - val_class_loss: 0.0000e+00 - val_regress_loss: 0.0153\n",
      "Epoch 70/100\n",
      "135/135 [==============================] - 12s 66ms/step - total_loss: 0.0014 - class_loss: 1.4244e-09 - regress_loss: 0.0014 - val_total_loss: 0.0173 - val_class_loss: 0.0000e+00 - val_regress_loss: 0.0173\n",
      "Epoch 71/100\n",
      "135/135 [==============================] - 12s 66ms/step - total_loss: 0.0011 - class_loss: 2.0818e-09 - regress_loss: 0.0011 - val_total_loss: 0.0139 - val_class_loss: 0.0000e+00 - val_regress_loss: 0.0139\n",
      "Epoch 72/100\n",
      "135/135 [==============================] - 12s 66ms/step - total_loss: 0.0010 - class_loss: 1.0957e-09 - regress_loss: 0.0010 - val_total_loss: 0.0033 - val_class_loss: 0.0000e+00 - val_regress_loss: 0.0033\n",
      "Epoch 73/100\n",
      "135/135 [==============================] - 11s 66ms/step - total_loss: 0.0010 - class_loss: 1.0957e-09 - regress_loss: 0.0010 - val_total_loss: 0.0080 - val_class_loss: 0.0000e+00 - val_regress_loss: 0.0080\n",
      "Epoch 74/100\n",
      "135/135 [==============================] - 11s 66ms/step - total_loss: 9.1483e-04 - class_loss: 6.5740e-10 - regress_loss: 9.1483e-04 - val_total_loss: 0.0125 - val_class_loss: 0.0000e+00 - val_regress_loss: 0.0125\n",
      "Epoch 75/100\n",
      "135/135 [==============================] - 11s 67ms/step - total_loss: 0.0015 - class_loss: 1.5339e-09 - regress_loss: 0.0015 - val_total_loss: 0.0091 - val_class_loss: 0.0000e+00 - val_regress_loss: 0.0091\n",
      "Epoch 76/100\n",
      "135/135 [==============================] - 11s 67ms/step - total_loss: 0.0023 - class_loss: 8.7654e-10 - regress_loss: 0.0023 - val_total_loss: 0.0114 - val_class_loss: 0.0000e+00 - val_regress_loss: 0.0114\n",
      "Epoch 77/100\n",
      "135/135 [==============================] - 11s 70ms/step - total_loss: 0.0019 - class_loss: 8.7654e-10 - regress_loss: 0.0019 - val_total_loss: 0.0140 - val_class_loss: 0.0000e+00 - val_regress_loss: 0.0140\n",
      "Epoch 78/100\n",
      "135/135 [==============================] - 11s 68ms/step - total_loss: 0.0013 - class_loss: 5.4784e-10 - regress_loss: 0.0013 - val_total_loss: 0.0102 - val_class_loss: 0.0000e+00 - val_regress_loss: 0.0102\n",
      "Epoch 79/100\n",
      "135/135 [==============================] - 11s 65ms/step - total_loss: 0.0021 - class_loss: 5.4784e-10 - regress_loss: 0.0021 - val_total_loss: 0.0173 - val_class_loss: 0.0000e+00 - val_regress_loss: 0.0173\n",
      "Epoch 80/100\n",
      "135/135 [==============================] - 11s 67ms/step - total_loss: 9.6314e-04 - class_loss: 5.4784e-10 - regress_loss: 9.6314e-04 - val_total_loss: 0.0146 - val_class_loss: 0.0000e+00 - val_regress_loss: 0.0146\n",
      "Epoch 81/100\n",
      "135/135 [==============================] - 11s 67ms/step - total_loss: 7.1014e-04 - class_loss: 2.1913e-10 - regress_loss: 7.1014e-04 - val_total_loss: 0.0161 - val_class_loss: 0.0000e+00 - val_regress_loss: 0.0161\n",
      "Epoch 82/100\n",
      "135/135 [==============================] - 11s 67ms/step - total_loss: 0.0014 - class_loss: 5.4784e-10 - regress_loss: 0.0014 - val_total_loss: 0.0076 - val_class_loss: 0.0000e+00 - val_regress_loss: 0.0076\n",
      "Epoch 83/100\n",
      "135/135 [==============================] - 11s 66ms/step - total_loss: 0.0015 - class_loss: 2.1913e-10 - regress_loss: 0.0015 - val_total_loss: 0.0088 - val_class_loss: 0.0000e+00 - val_regress_loss: 0.0088\n",
      "Epoch 84/100\n",
      "135/135 [==============================] - 12s 66ms/step - total_loss: 0.0030 - class_loss: 7.6697e-10 - regress_loss: 0.0030 - val_total_loss: 0.0104 - val_class_loss: 0.0000e+00 - val_regress_loss: 0.0104\n",
      "Epoch 85/100\n",
      "135/135 [==============================] - 12s 66ms/step - total_loss: 0.0042 - class_loss: 7.6697e-10 - regress_loss: 0.0042 - val_total_loss: 0.0119 - val_class_loss: 0.0000e+00 - val_regress_loss: 0.0119\n",
      "Epoch 86/100\n",
      "135/135 [==============================] - 11s 66ms/step - total_loss: 0.0018 - class_loss: 5.4784e-10 - regress_loss: 0.0018 - val_total_loss: 0.0040 - val_class_loss: 0.0000e+00 - val_regress_loss: 0.0040\n",
      "Epoch 87/100\n",
      "135/135 [==============================] - 11s 66ms/step - total_loss: 7.8265e-04 - class_loss: 2.1913e-10 - regress_loss: 7.8265e-04 - val_total_loss: 0.0124 - val_class_loss: 0.0000e+00 - val_regress_loss: 0.0124\n",
      "Epoch 88/100\n",
      "135/135 [==============================] - 11s 70ms/step - total_loss: 7.0214e-04 - class_loss: 1.0957e-10 - regress_loss: 7.0214e-04 - val_total_loss: 0.0071 - val_class_loss: 0.0000e+00 - val_regress_loss: 0.0071\n",
      "Epoch 89/100\n",
      "135/135 [==============================] - 11s 71ms/step - total_loss: 8.3023e-04 - class_loss: 1.0957e-10 - regress_loss: 8.3023e-04 - val_total_loss: 0.0092 - val_class_loss: 0.0000e+00 - val_regress_loss: 0.0092\n",
      "Epoch 90/100\n",
      "135/135 [==============================] - 12s 76ms/step - total_loss: 6.1510e-04 - class_loss: 1.0957e-10 - regress_loss: 6.1510e-04 - val_total_loss: 0.0093 - val_class_loss: 0.0000e+00 - val_regress_loss: 0.0093\n",
      "Epoch 91/100\n",
      "135/135 [==============================] - 12s 76ms/step - total_loss: 6.2842e-04 - class_loss: 1.0957e-10 - regress_loss: 6.2842e-04 - val_total_loss: 0.0201 - val_class_loss: 0.0000e+00 - val_regress_loss: 0.0201\n",
      "Epoch 92/100\n",
      "135/135 [==============================] - 12s 75ms/step - total_loss: 4.3018e-04 - class_loss: 0.0000e+00 - regress_loss: 4.3018e-04 - val_total_loss: 0.0085 - val_class_loss: 0.0000e+00 - val_regress_loss: 0.0085\n",
      "Epoch 93/100\n",
      "135/135 [==============================] - 11s 65ms/step - total_loss: 7.4046e-04 - class_loss: 1.0957e-10 - regress_loss: 7.4046e-04 - val_total_loss: 0.0113 - val_class_loss: 0.0000e+00 - val_regress_loss: 0.0113\n",
      "Epoch 94/100\n",
      "135/135 [==============================] - 11s 67ms/step - total_loss: 0.0011 - class_loss: 1.0957e-10 - regress_loss: 0.0011 - val_total_loss: 0.0090 - val_class_loss: 0.0000e+00 - val_regress_loss: 0.0090\n",
      "Epoch 95/100\n",
      "135/135 [==============================] - 11s 67ms/step - total_loss: 0.0011 - class_loss: 0.0000e+00 - regress_loss: 0.0011 - val_total_loss: 0.0079 - val_class_loss: 0.0000e+00 - val_regress_loss: 0.0079\n",
      "Epoch 96/100\n",
      "135/135 [==============================] - 11s 66ms/step - total_loss: 0.0011 - class_loss: 0.0000e+00 - regress_loss: 0.0011 - val_total_loss: 0.0168 - val_class_loss: 0.0000e+00 - val_regress_loss: 0.0168\n",
      "Epoch 97/100\n",
      "135/135 [==============================] - 11s 68ms/step - total_loss: 0.0011 - class_loss: 1.0957e-10 - regress_loss: 0.0011 - val_total_loss: 0.0172 - val_class_loss: 0.0000e+00 - val_regress_loss: 0.0172\n",
      "Epoch 98/100\n",
      "135/135 [==============================] - 11s 67ms/step - total_loss: 0.0012 - class_loss: 1.0957e-10 - regress_loss: 0.0012 - val_total_loss: 0.0082 - val_class_loss: 0.0000e+00 - val_regress_loss: 0.0082\n",
      "Epoch 99/100\n",
      "135/135 [==============================] - 11s 67ms/step - total_loss: 0.0015 - class_loss: 0.0000e+00 - regress_loss: 0.0015 - val_total_loss: 0.0164 - val_class_loss: 0.0000e+00 - val_regress_loss: 0.0164\n",
      "Epoch 100/100\n",
      "135/135 [==============================] - 11s 66ms/step - total_loss: 0.0019 - class_loss: 0.0000e+00 - regress_loss: 0.0019 - val_total_loss: 0.0116 - val_class_loss: 0.0000e+00 - val_regress_loss: 0.0116\n"
     ]
    }
   ],
   "source": [
    "hist = model.fit(train, epochs = 100, validation_data = val, callbacks = [tensorboard_callback])"
   ]
  },
  {
   "cell_type": "code",
   "execution_count": 140,
   "metadata": {
    "id": "FkUn0xYtX2LN"
   },
   "outputs": [],
   "source": [
    "test_data = test.as_numpy_iterator()"
   ]
  },
  {
   "cell_type": "code",
   "execution_count": 144,
   "metadata": {
    "id": "ywc_ba58ZXHk"
   },
   "outputs": [],
   "source": [
    "test_sample = test_data.next()"
   ]
  },
  {
   "cell_type": "code",
   "execution_count": 145,
   "metadata": {
    "colab": {
     "base_uri": "https://localhost:8080/"
    },
    "id": "IcfKEXmoZqAY",
    "outputId": "fb9f373f-d046-4594-a694-e99c950b5475"
   },
   "outputs": [
    {
     "name": "stdout",
     "output_type": "stream",
     "text": [
      "1/1 [==============================] - 0s 20ms/step\n"
     ]
    }
   ],
   "source": [
    "yhat = facetracker.predict(test_sample[0])"
   ]
  },
  {
   "cell_type": "code",
   "execution_count": null,
   "metadata": {
    "colab": {
     "base_uri": "https://localhost:8080/",
     "height": 332
    },
    "id": "s1t3s_oxZFdE",
    "outputId": "c642f4de-fb03-49a3-ade4-3a2895c7375b"
   },
   "outputs": [],
   "source": [
    "fig, ax = plt.subplots(ncols = 4, figsize = (20, 20))\n",
    "\n",
    "for idx in range(4):\n",
    "\n",
    "  sample_image = test_sample[0][idx]\n",
    "  sample_coords = yhat[1][idx]\n",
    "\n",
    "  if yhat[0][idx] > 0.9:\n",
    "    cv2.rectangle(sample_image,\n",
    "                  tuple(np.multiply(sample_coords[:2], [120, 120]).astype(int)),\n",
    "                  tuple(np.multiply(sample_coords[2:], [120, 120]).astype(int)),\n",
    "                  (0, 0, 255), 2)\n",
    "\n",
    "  ax[idx].imshow(sample_image)"
   ]
  },
  {
   "cell_type": "code",
   "execution_count": 147,
   "metadata": {
    "colab": {
     "base_uri": "https://localhost:8080/"
    },
    "id": "46dcDQ9reD_H",
    "outputId": "86672735-958b-436e-aba7-1a8779908947"
   },
   "outputs": [
    {
     "name": "stderr",
     "output_type": "stream",
     "text": [
      "WARNING:tensorflow:Compiled the loaded model, but the compiled metrics have yet to be built. `model.compile_metrics` will be empty until you train or evaluate the model.\n"
     ]
    }
   ],
   "source": [
    "facetracker.save('facedetection.h5')"
   ]
  },
  {
   "cell_type": "code",
   "execution_count": 9,
   "metadata": {},
   "outputs": [],
   "source": [
    "import tensorflow as tf\n",
    "from tensorflow.keras.models import load_model\n",
    "import cv2\n",
    "import numpy as np"
   ]
  },
  {
   "cell_type": "code",
   "execution_count": 4,
   "metadata": {},
   "outputs": [
    {
     "name": "stdout",
     "output_type": "stream",
     "text": [
      "WARNING:tensorflow:No training configuration found in the save file, so the model was *not* compiled. Compile it manually.\n"
     ]
    }
   ],
   "source": [
    "facetracker = load_model('facedetection.h5')"
   ]
  },
  {
   "cell_type": "code",
   "execution_count": 10,
   "metadata": {
    "id": "GjKynYJQeX02"
   },
   "outputs": [],
   "source": [
    "cap = cv2.VideoCapture(0)\n",
    "while cap.isOpened():\n",
    "    _ , frame = cap.read()\n",
    "    frame = frame[50:500, 50:500,:]\n",
    "    \n",
    "    rgb = cv2.cvtColor(frame, cv2.COLOR_BGR2RGB)\n",
    "    resized = tf.image.resize(rgb, (120,120))\n",
    "    \n",
    "    yhat = facetracker.predict(np.expand_dims(resized/255,0))\n",
    "    sample_coords = yhat[1][0]\n",
    "    \n",
    "    if yhat[0] > 0.5: \n",
    "        # Controls the main rectangle\n",
    "        cv2.rectangle(frame, \n",
    "                      tuple(np.multiply(sample_coords[:2], [450,450]).astype(int)),\n",
    "                      tuple(np.multiply(sample_coords[2:], [450,450]).astype(int)), \n",
    "                            (255,0,0), 2)\n",
    "        # Controls the label rectangle\n",
    "        cv2.rectangle(frame, \n",
    "                      tuple(np.add(np.multiply(sample_coords[:2], [450,450]).astype(int), \n",
    "                                    [0,-30])),\n",
    "                      tuple(np.add(np.multiply(sample_coords[:2], [450,450]).astype(int),\n",
    "                                    [80,0])), \n",
    "                            (255,0,0), -1)\n",
    "        \n",
    "        # Controls the text rendered\n",
    "        cv2.putText(frame, 'face', tuple(np.add(np.multiply(sample_coords[:2], [450,450]).astype(int),\n",
    "                                               [0,-5])),\n",
    "                    cv2.FONT_HERSHEY_SIMPLEX, 1, (255,255,255), 2, cv2.LINE_AA)\n",
    "    \n",
    "    cv2.imshow('EyeTrack', frame)\n",
    "    \n",
    "    if cv2.waitKey(1) & 0xFF == ord('q'):\n",
    "        break\n",
    "        \n",
    "cap.release()\n",
    "cv2.destroyAllWindows()"
   ]
  },
  {
   "cell_type": "code",
   "execution_count": 12,
   "metadata": {},
   "outputs": [
    {
     "name": "stdout",
     "output_type": "stream",
     "text": [
      "WARNING:tensorflow:No training configuration found in the save file, so the model was *not* compiled. Compile it manually.\n"
     ]
    }
   ],
   "source": [
    "model = load_model('facedetection.h5')"
   ]
  },
  {
   "cell_type": "code",
   "execution_count": null,
   "metadata": {},
   "outputs": [],
   "source": []
  }
 ],
 "metadata": {
  "accelerator": "GPU",
  "colab": {
   "gpuType": "T4",
   "provenance": []
  },
  "kernelspec": {
   "display_name": "Python 3 (ipykernel)",
   "language": "python",
   "name": "python3"
  },
  "language_info": {
   "codemirror_mode": {
    "name": "ipython",
    "version": 3
   },
   "file_extension": ".py",
   "mimetype": "text/x-python",
   "name": "python",
   "nbconvert_exporter": "python",
   "pygments_lexer": "ipython3",
   "version": "3.10.6"
  }
 },
 "nbformat": 4,
 "nbformat_minor": 4
}
